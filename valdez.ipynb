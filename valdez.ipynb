{
 "cells": [
  {
   "cell_type": "code",
   "execution_count": 1,
   "metadata": {},
   "outputs": [],
   "source": [
    "import pandas as pd"
   ]
  },
  {
   "cell_type": "code",
   "execution_count": 2,
   "metadata": {},
   "outputs": [],
   "source": [
    "df = pd.read_csv(\"C:\\Users\\Armin\\Desktop\\College Doc Final1\\BusinessProcess\\yugioh.csv\", encoding = 'unicode_escape')"
   ]
  },
  {
   "cell_type": "code",
   "execution_count": 3,
   "metadata": {},
   "outputs": [
    {
     "data": {
      "text/html": [
       "<div>\n",
       "<style scoped>\n",
       "    .dataframe tbody tr th:only-of-type {\n",
       "        vertical-align: middle;\n",
       "    }\n",
       "\n",
       "    .dataframe tbody tr th {\n",
       "        vertical-align: top;\n",
       "    }\n",
       "\n",
       "    .dataframe thead th {\n",
       "        text-align: right;\n",
       "    }\n",
       "</style>\n",
       "<table border=\"1\" class=\"dataframe\">\n",
       "  <thead>\n",
       "    <tr style=\"text-align: right;\">\n",
       "      <th></th>\n",
       "      <th>name</th>\n",
       "      <th>attack</th>\n",
       "      <th>attribute</th>\n",
       "      <th>defense</th>\n",
       "      <th>has_materials</th>\n",
       "      <th>has_name_condition</th>\n",
       "      <th>is_extra_deck</th>\n",
       "      <th>is_fusion</th>\n",
       "      <th>is_link</th>\n",
       "      <th>is_pendulum</th>\n",
       "      <th>...</th>\n",
       "      <th>materials</th>\n",
       "      <th>monster_types</th>\n",
       "      <th>name_condition</th>\n",
       "      <th>number</th>\n",
       "      <th>pendulum_left</th>\n",
       "      <th>pendulum_right</th>\n",
       "      <th>pendulum_text</th>\n",
       "      <th>Type</th>\n",
       "      <th>stars</th>\n",
       "      <th>text</th>\n",
       "    </tr>\n",
       "  </thead>\n",
       "  <tbody>\n",
       "    <tr>\n",
       "      <th>0</th>\n",
       "      <td>3-Hump Lacooda</td>\n",
       "      <td>500</td>\n",
       "      <td>EARTH</td>\n",
       "      <td>1500</td>\n",
       "      <td>False</td>\n",
       "      <td>False</td>\n",
       "      <td>False</td>\n",
       "      <td>False</td>\n",
       "      <td>False</td>\n",
       "      <td>False</td>\n",
       "      <td>...</td>\n",
       "      <td>NaN</td>\n",
       "      <td>['Effect']</td>\n",
       "      <td>NaN</td>\n",
       "      <td>86988864</td>\n",
       "      <td>NaN</td>\n",
       "      <td>NaN</td>\n",
       "      <td>NaN</td>\n",
       "      <td>Beast</td>\n",
       "      <td>3.0</td>\n",
       "      <td>If there are 3 face-up \"3-Hump Lacooda\" cards ...</td>\n",
       "    </tr>\n",
       "    <tr>\n",
       "      <th>1</th>\n",
       "      <td>30,000-Year White Turtle</td>\n",
       "      <td>1250</td>\n",
       "      <td>WATER</td>\n",
       "      <td>2100</td>\n",
       "      <td>False</td>\n",
       "      <td>False</td>\n",
       "      <td>False</td>\n",
       "      <td>False</td>\n",
       "      <td>False</td>\n",
       "      <td>False</td>\n",
       "      <td>...</td>\n",
       "      <td>NaN</td>\n",
       "      <td>['Normal']</td>\n",
       "      <td>NaN</td>\n",
       "      <td>11714098</td>\n",
       "      <td>NaN</td>\n",
       "      <td>NaN</td>\n",
       "      <td>NaN</td>\n",
       "      <td>Aqua</td>\n",
       "      <td>5.0</td>\n",
       "      <td>A huge turtle that has existed for more than 3...</td>\n",
       "    </tr>\n",
       "    <tr>\n",
       "      <th>2</th>\n",
       "      <td>4-Starred Ladybug of Doom</td>\n",
       "      <td>800</td>\n",
       "      <td>WIND</td>\n",
       "      <td>1200</td>\n",
       "      <td>False</td>\n",
       "      <td>False</td>\n",
       "      <td>False</td>\n",
       "      <td>False</td>\n",
       "      <td>False</td>\n",
       "      <td>False</td>\n",
       "      <td>...</td>\n",
       "      <td>NaN</td>\n",
       "      <td>['Flip', 'Effect']</td>\n",
       "      <td>NaN</td>\n",
       "      <td>83994646</td>\n",
       "      <td>NaN</td>\n",
       "      <td>NaN</td>\n",
       "      <td>NaN</td>\n",
       "      <td>Insect</td>\n",
       "      <td>3.0</td>\n",
       "      <td>FLIP: Destroy all Level 4 monsters your oppone...</td>\n",
       "    </tr>\n",
       "    <tr>\n",
       "      <th>3</th>\n",
       "      <td>7 Colored Fish</td>\n",
       "      <td>1800</td>\n",
       "      <td>WATER</td>\n",
       "      <td>800</td>\n",
       "      <td>False</td>\n",
       "      <td>False</td>\n",
       "      <td>False</td>\n",
       "      <td>False</td>\n",
       "      <td>False</td>\n",
       "      <td>False</td>\n",
       "      <td>...</td>\n",
       "      <td>NaN</td>\n",
       "      <td>['Normal']</td>\n",
       "      <td>NaN</td>\n",
       "      <td>23771716</td>\n",
       "      <td>NaN</td>\n",
       "      <td>NaN</td>\n",
       "      <td>NaN</td>\n",
       "      <td>Fish</td>\n",
       "      <td>4.0</td>\n",
       "      <td>A rare rainbow fish that has never been caught...</td>\n",
       "    </tr>\n",
       "    <tr>\n",
       "      <th>4</th>\n",
       "      <td>8-Claws Scorpion</td>\n",
       "      <td>300</td>\n",
       "      <td>DARK</td>\n",
       "      <td>200</td>\n",
       "      <td>False</td>\n",
       "      <td>False</td>\n",
       "      <td>False</td>\n",
       "      <td>False</td>\n",
       "      <td>False</td>\n",
       "      <td>False</td>\n",
       "      <td>...</td>\n",
       "      <td>NaN</td>\n",
       "      <td>['Effect']</td>\n",
       "      <td>NaN</td>\n",
       "      <td>14261867</td>\n",
       "      <td>NaN</td>\n",
       "      <td>NaN</td>\n",
       "      <td>NaN</td>\n",
       "      <td>Insect</td>\n",
       "      <td>2.0</td>\n",
       "      <td>Once per turn, you can flip this card into fac...</td>\n",
       "    </tr>\n",
       "  </tbody>\n",
       "</table>\n",
       "<p>5 rows × 24 columns</p>\n",
       "</div>"
      ],
      "text/plain": [
       "                        name attack attribute defense  has_materials  \\\n",
       "0             3-Hump Lacooda    500     EARTH    1500          False   \n",
       "1   30,000-Year White Turtle   1250     WATER    2100          False   \n",
       "2  4-Starred Ladybug of Doom    800      WIND    1200          False   \n",
       "3             7 Colored Fish   1800     WATER     800          False   \n",
       "4           8-Claws Scorpion    300      DARK     200          False   \n",
       "\n",
       "   has_name_condition  is_extra_deck  is_fusion  is_link  is_pendulum  ...  \\\n",
       "0               False          False      False    False        False  ...   \n",
       "1               False          False      False    False        False  ...   \n",
       "2               False          False      False    False        False  ...   \n",
       "3               False          False      False    False        False  ...   \n",
       "4               False          False      False    False        False  ...   \n",
       "\n",
       "   materials       monster_types name_condition    number pendulum_left  \\\n",
       "0        NaN          ['Effect']            NaN  86988864           NaN   \n",
       "1        NaN          ['Normal']            NaN  11714098           NaN   \n",
       "2        NaN  ['Flip', 'Effect']            NaN  83994646           NaN   \n",
       "3        NaN          ['Normal']            NaN  23771716           NaN   \n",
       "4        NaN          ['Effect']            NaN  14261867           NaN   \n",
       "\n",
       "  pendulum_right pendulum_text    Type  stars  \\\n",
       "0            NaN           NaN   Beast    3.0   \n",
       "1            NaN           NaN    Aqua    5.0   \n",
       "2            NaN           NaN  Insect    3.0   \n",
       "3            NaN           NaN    Fish    4.0   \n",
       "4            NaN           NaN  Insect    2.0   \n",
       "\n",
       "                                                text  \n",
       "0  If there are 3 face-up \"3-Hump Lacooda\" cards ...  \n",
       "1  A huge turtle that has existed for more than 3...  \n",
       "2  FLIP: Destroy all Level 4 monsters your oppone...  \n",
       "3  A rare rainbow fish that has never been caught...  \n",
       "4  Once per turn, you can flip this card into fac...  \n",
       "\n",
       "[5 rows x 24 columns]"
      ]
     },
     "execution_count": 3,
     "metadata": {},
     "output_type": "execute_result"
    }
   ],
   "source": [
    "df.head(5)"
   ]
  },
  {
   "cell_type": "code",
   "execution_count": 14,
   "metadata": {},
   "outputs": [
    {
     "data": {
      "text/plain": [
       "5949"
      ]
     },
     "execution_count": 14,
     "metadata": {},
     "output_type": "execute_result"
    }
   ],
   "source": [
    "df['name'].count()"
   ]
  },
  {
   "cell_type": "code",
   "execution_count": 5,
   "metadata": {},
   "outputs": [
    {
     "data": {
      "text/plain": [
       "[u'EARTH', u'WATER', u'WIND', u'DARK', u'LIGHT', u'FIRE', u'DIVINE']"
      ]
     },
     "execution_count": 5,
     "metadata": {},
     "output_type": "execute_result"
    }
   ],
   "source": [
    "df['attribute'].unique().tolist()"
   ]
  },
  {
   "cell_type": "code",
   "execution_count": 6,
   "metadata": {},
   "outputs": [
    {
     "data": {
      "text/plain": [
       "464"
      ]
     },
     "execution_count": 6,
     "metadata": {},
     "output_type": "execute_result"
    }
   ],
   "source": [
    "df['Type'].str.count('Dragon').sum()\n"
   ]
  },
  {
   "cell_type": "code",
   "execution_count": 7,
   "metadata": {},
   "outputs": [
    {
     "data": {
      "text/plain": [
       "296"
      ]
     },
     "execution_count": 7,
     "metadata": {},
     "output_type": "execute_result"
    }
   ],
   "source": [
    "df['monster_types'].str.contains('Fusion').sum()"
   ]
  },
  {
   "cell_type": "code",
   "execution_count": 8,
   "metadata": {},
   "outputs": [
    {
     "data": {
      "text/plain": [
       "44"
      ]
     },
     "execution_count": 8,
     "metadata": {},
     "output_type": "execute_result"
    }
   ],
   "source": [
    "len(df[(df['Type'] == \"Dragon\") & df['monster_types'].str.contains('Fusion')])"
   ]
  },
  {
   "cell_type": "code",
   "execution_count": 20,
   "metadata": {},
   "outputs": [
    {
     "name": "stdout",
     "output_type": "stream",
     "text": [
      "Ratio of Dragon is:\n",
      "0.0779963018994789\n"
     ]
    }
   ],
   "source": [
    "print(\"Ratio of Dragon is:\")\n",
    "print((df['Type'].str.count('Dragon').sum()).astype(float) / (df['name'].count().sum()).astype(float))"
   ]
  },
  {
   "cell_type": "code",
   "execution_count": null,
   "metadata": {},
   "outputs": [],
   "source": []
  }
 ],
 "metadata": {
  "kernelspec": {
   "display_name": "Python 2",
   "language": "python",
   "name": "python2"
  },
  "language_info": {
   "codemirror_mode": {
    "name": "ipython",
    "version": 2
   },
   "file_extension": ".py",
   "mimetype": "text/x-python",
   "name": "python",
   "nbconvert_exporter": "python",
   "pygments_lexer": "ipython2",
   "version": "2.7.16"
  }
 },
 "nbformat": 4,
 "nbformat_minor": 2
}
